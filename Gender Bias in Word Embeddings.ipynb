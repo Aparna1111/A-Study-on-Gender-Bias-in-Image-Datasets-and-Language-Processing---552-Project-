{
 "cells": [
  {
   "cell_type": "markdown",
   "metadata": {},
   "source": [
    "\n",
    "# STUDY 2 - Examining Gender Bias in Word Embeddings"
   ]
  },
  {
   "cell_type": "code",
   "execution_count": 4,
   "metadata": {},
   "outputs": [
    {
     "ename": "RuntimeError",
     "evalue": "Cython extensions are unavailable. Without them, this gensim functionality is disabled. If you've installed from a package, ask the package maintainer to include Cython extensions. If you're building gensim from source yourself, run `python setup.py build_ext --inplace` and retry. ",
     "output_type": "error",
     "traceback": [
      "\u001b[1;31m---------------------------------------------------------------------------\u001b[0m",
      "\u001b[1;31mImportError\u001b[0m                               Traceback (most recent call last)",
      "\u001b[1;32mc:\\users\\naira\\appdata\\local\\programs\\python\\python37\\lib\\site-packages\\gensim\\matutils.py\u001b[0m in \u001b[0;36m<module>\u001b[1;34m\u001b[0m\n\u001b[0;32m   1345\u001b[0m \u001b[1;32mtry\u001b[0m\u001b[1;33m:\u001b[0m\u001b[1;33m\u001b[0m\u001b[0m\n\u001b[1;32m-> 1346\u001b[1;33m     \u001b[1;32mfrom\u001b[0m \u001b[0mgensim\u001b[0m\u001b[1;33m.\u001b[0m\u001b[0mcorpora\u001b[0m\u001b[1;33m.\u001b[0m\u001b[0m_mmreader\u001b[0m \u001b[1;32mimport\u001b[0m \u001b[0mMmReader\u001b[0m  \u001b[1;31m# noqa: F401\u001b[0m\u001b[1;33m\u001b[0m\u001b[0m\n\u001b[0m\u001b[0;32m   1347\u001b[0m \u001b[1;32mexcept\u001b[0m \u001b[0mImportError\u001b[0m\u001b[1;33m:\u001b[0m\u001b[1;33m\u001b[0m\u001b[0m\n",
      "\u001b[1;32mc:\\users\\naira\\appdata\\local\\programs\\python\\python37\\lib\\site-packages\\gensim\\corpora\\_mmreader.pyx\u001b[0m in \u001b[0;36minit gensim.corpora._mmreader\u001b[1;34m()\u001b[0m\n",
      "\u001b[1;31mImportError\u001b[0m: cannot import name utils",
      "\nDuring handling of the above exception, another exception occurred:\n",
      "\u001b[1;31mRuntimeError\u001b[0m                              Traceback (most recent call last)",
      "\u001b[1;32m<ipython-input-4-3381b7e93a4b>\u001b[0m in \u001b[0;36m<module>\u001b[1;34m\u001b[0m\n\u001b[1;32m----> 1\u001b[1;33m \u001b[1;32mimport\u001b[0m \u001b[0mgensim\u001b[0m\u001b[1;33m\u001b[0m\u001b[0m\n\u001b[0m\u001b[0;32m      2\u001b[0m \u001b[1;32mimport\u001b[0m \u001b[0mnumpy\u001b[0m \u001b[1;32mas\u001b[0m \u001b[0mnp\u001b[0m\u001b[1;33m\u001b[0m\u001b[0m\n\u001b[0;32m      3\u001b[0m \u001b[1;32mfrom\u001b[0m \u001b[0msklearn\u001b[0m\u001b[1;33m.\u001b[0m\u001b[0mmetrics\u001b[0m\u001b[1;33m.\u001b[0m\u001b[0mpairwise\u001b[0m \u001b[1;32mimport\u001b[0m \u001b[0mcosine_similarity\u001b[0m\u001b[1;33m\u001b[0m\u001b[0m\n\u001b[0;32m      4\u001b[0m \u001b[1;32mfrom\u001b[0m \u001b[0mgensim\u001b[0m\u001b[1;33m.\u001b[0m\u001b[0mmodels\u001b[0m \u001b[1;32mimport\u001b[0m \u001b[0mWord2Vec\u001b[0m\u001b[1;33m\u001b[0m\u001b[0m\n",
      "\u001b[1;32mc:\\users\\naira\\appdata\\local\\programs\\python\\python37\\lib\\site-packages\\gensim\\__init__.py\u001b[0m in \u001b[0;36m<module>\u001b[1;34m\u001b[0m\n\u001b[0;32m      9\u001b[0m \u001b[1;32mimport\u001b[0m \u001b[0mlogging\u001b[0m\u001b[1;33m\u001b[0m\u001b[0m\n\u001b[0;32m     10\u001b[0m \u001b[1;33m\u001b[0m\u001b[0m\n\u001b[1;32m---> 11\u001b[1;33m \u001b[1;32mfrom\u001b[0m \u001b[0mgensim\u001b[0m \u001b[1;32mimport\u001b[0m \u001b[0mparsing\u001b[0m\u001b[1;33m,\u001b[0m \u001b[0mcorpora\u001b[0m\u001b[1;33m,\u001b[0m \u001b[0mmatutils\u001b[0m\u001b[1;33m,\u001b[0m \u001b[0minterfaces\u001b[0m\u001b[1;33m,\u001b[0m \u001b[0mmodels\u001b[0m\u001b[1;33m,\u001b[0m \u001b[0msimilarities\u001b[0m\u001b[1;33m,\u001b[0m \u001b[0mutils\u001b[0m  \u001b[1;31m# noqa:F401\u001b[0m\u001b[1;33m\u001b[0m\u001b[0m\n\u001b[0m\u001b[0;32m     12\u001b[0m \u001b[1;33m\u001b[0m\u001b[0m\n\u001b[0;32m     13\u001b[0m \u001b[1;33m\u001b[0m\u001b[0m\n",
      "\u001b[1;32mc:\\users\\naira\\appdata\\local\\programs\\python\\python37\\lib\\site-packages\\gensim\\corpora\\__init__.py\u001b[0m in \u001b[0;36m<module>\u001b[1;34m\u001b[0m\n\u001b[0;32m      4\u001b[0m \u001b[1;33m\u001b[0m\u001b[0m\n\u001b[0;32m      5\u001b[0m \u001b[1;31m# bring corpus classes directly into package namespace, to save some typing\u001b[0m\u001b[1;33m\u001b[0m\u001b[1;33m\u001b[0m\u001b[0m\n\u001b[1;32m----> 6\u001b[1;33m \u001b[1;32mfrom\u001b[0m \u001b[1;33m.\u001b[0m\u001b[0mindexedcorpus\u001b[0m \u001b[1;32mimport\u001b[0m \u001b[0mIndexedCorpus\u001b[0m  \u001b[1;31m# noqa:F401 must appear before the other classes\u001b[0m\u001b[1;33m\u001b[0m\u001b[0m\n\u001b[0m\u001b[0;32m      7\u001b[0m \u001b[1;33m\u001b[0m\u001b[0m\n\u001b[0;32m      8\u001b[0m \u001b[1;32mfrom\u001b[0m \u001b[1;33m.\u001b[0m\u001b[0mmmcorpus\u001b[0m \u001b[1;32mimport\u001b[0m \u001b[0mMmCorpus\u001b[0m  \u001b[1;31m# noqa:F401\u001b[0m\u001b[1;33m\u001b[0m\u001b[0m\n",
      "\u001b[1;32mc:\\users\\naira\\appdata\\local\\programs\\python\\python37\\lib\\site-packages\\gensim\\corpora\\indexedcorpus.py\u001b[0m in \u001b[0;36m<module>\u001b[1;34m\u001b[0m\n\u001b[0;32m     12\u001b[0m \u001b[1;32mimport\u001b[0m \u001b[0mnumpy\u001b[0m\u001b[1;33m\u001b[0m\u001b[0m\n\u001b[0;32m     13\u001b[0m \u001b[1;33m\u001b[0m\u001b[0m\n\u001b[1;32m---> 14\u001b[1;33m \u001b[1;32mfrom\u001b[0m \u001b[0mgensim\u001b[0m \u001b[1;32mimport\u001b[0m \u001b[0minterfaces\u001b[0m\u001b[1;33m,\u001b[0m \u001b[0mutils\u001b[0m\u001b[1;33m\u001b[0m\u001b[0m\n\u001b[0m\u001b[0;32m     15\u001b[0m \u001b[1;33m\u001b[0m\u001b[0m\n\u001b[0;32m     16\u001b[0m \u001b[0mlogger\u001b[0m \u001b[1;33m=\u001b[0m \u001b[0mlogging\u001b[0m\u001b[1;33m.\u001b[0m\u001b[0mgetLogger\u001b[0m\u001b[1;33m(\u001b[0m\u001b[0m__name__\u001b[0m\u001b[1;33m)\u001b[0m\u001b[1;33m\u001b[0m\u001b[0m\n",
      "\u001b[1;32mc:\\users\\naira\\appdata\\local\\programs\\python\\python37\\lib\\site-packages\\gensim\\interfaces.py\u001b[0m in \u001b[0;36m<module>\u001b[1;34m\u001b[0m\n\u001b[0;32m     17\u001b[0m \u001b[1;32mimport\u001b[0m \u001b[0mlogging\u001b[0m\u001b[1;33m\u001b[0m\u001b[0m\n\u001b[0;32m     18\u001b[0m \u001b[1;33m\u001b[0m\u001b[0m\n\u001b[1;32m---> 19\u001b[1;33m \u001b[1;32mfrom\u001b[0m \u001b[0mgensim\u001b[0m \u001b[1;32mimport\u001b[0m \u001b[0mutils\u001b[0m\u001b[1;33m,\u001b[0m \u001b[0mmatutils\u001b[0m\u001b[1;33m\u001b[0m\u001b[0m\n\u001b[0m\u001b[0;32m     20\u001b[0m \u001b[1;33m\u001b[0m\u001b[0m\n\u001b[0;32m     21\u001b[0m \u001b[1;33m\u001b[0m\u001b[0m\n",
      "\u001b[1;32mc:\\users\\naira\\appdata\\local\\programs\\python\\python37\\lib\\site-packages\\gensim\\matutils.py\u001b[0m in \u001b[0;36m<module>\u001b[1;34m\u001b[0m\n\u001b[0;32m   1346\u001b[0m     \u001b[1;32mfrom\u001b[0m \u001b[0mgensim\u001b[0m\u001b[1;33m.\u001b[0m\u001b[0mcorpora\u001b[0m\u001b[1;33m.\u001b[0m\u001b[0m_mmreader\u001b[0m \u001b[1;32mimport\u001b[0m \u001b[0mMmReader\u001b[0m  \u001b[1;31m# noqa: F401\u001b[0m\u001b[1;33m\u001b[0m\u001b[0m\n\u001b[0;32m   1347\u001b[0m \u001b[1;32mexcept\u001b[0m \u001b[0mImportError\u001b[0m\u001b[1;33m:\u001b[0m\u001b[1;33m\u001b[0m\u001b[0m\n\u001b[1;32m-> 1348\u001b[1;33m     \u001b[1;32mraise\u001b[0m \u001b[0mutils\u001b[0m\u001b[1;33m.\u001b[0m\u001b[0mNO_CYTHON\u001b[0m\u001b[1;33m\u001b[0m\u001b[0m\n\u001b[0m",
      "\u001b[1;31mRuntimeError\u001b[0m: Cython extensions are unavailable. Without them, this gensim functionality is disabled. If you've installed from a package, ask the package maintainer to include Cython extensions. If you're building gensim from source yourself, run `python setup.py build_ext --inplace` and retry. "
     ]
    }
   ],
   "source": [
    "import gensim\n",
    "import numpy as np\n",
    "from sklearn.metrics.pairwise import cosine_similarity\n",
    "from gensim.models import Word2Vec"
   ]
  },
  {
   "cell_type": "code",
   "execution_count": null,
   "metadata": {},
   "outputs": [],
   "source": [
    "import gensim\n",
    "import numpy as np\n",
    "from sklearn.metrics.pairwise import cosine_similarity\n",
    "from gensim.models import Word2Vec"
   ]
  },
  {
   "cell_type": "code",
   "execution_count": 15,
   "metadata": {},
   "outputs": [
    {
     "name": "stderr",
     "output_type": "stream",
     "text": [
      "c:\\users\\naira\\appdata\\local\\programs\\python\\python37\\lib\\site-packages\\ipykernel_launcher.py:3: DeprecationWarning: Call to deprecated `init_sims` (Use fill_norms() instead. See https://github.com/RaRe-Technologies/gensim/wiki/Migrating-from-Gensim-3.x-to-4).\n",
      "  This is separate from the ipykernel package so we can avoid doing imports until\n"
     ]
    }
   ],
   "source": [
    "# Load Google's pre-trained Word2Vec model.\n",
    "model = gensim.models.KeyedVectors.load_word2vec_format('GoogleNews-vectors-negative300.bin', binary=True)\n",
    "model.init_sims(replace=True) # The vectors shall be normalized by L2 norm to reproduce the results published"
   ]
  },
  {
   "cell_type": "code",
   "execution_count": 17,
   "metadata": {},
   "outputs": [],
   "source": [
    "def check_full_list(counterpart, obj, subj):\n",
    "\n",
    "    top_ten = model.most_similar(positive=[counterpart, obj], negative=[subj])\n",
    "    vec1 = (model.get_vector(counterpart) + model.get_vector(obj) - model.get_vector(subj)).reshape(1, 300)\n",
    "    vec2 = model.get_vector(obj).reshape(1, 300)\n",
    "    top_ten.append((obj, cosine_similarity(vec1, vec2)[0][0]))\n",
    "    return sorted(top_ten, key=lambda x: x[1], reverse=True)"
   ]
  },
  {
   "cell_type": "markdown",
   "metadata": {},
   "source": [
    "## Word Embedding Representation "
   ]
  },
  {
   "cell_type": "code",
   "execution_count": 18,
   "metadata": {},
   "outputs": [
    {
     "data": {
      "text/plain": [
       "[('Japan', 0.8167769908905029),\n",
       " ('Japanese', 0.6480901837348938),\n",
       " ('South_Korea', 0.6141558885574341),\n",
       " ('Japans', 0.6117385029792786),\n",
       " ('Shizuoka', 0.5742497444152832),\n",
       " ('Aomori_Prefecture', 0.5598059296607971),\n",
       " ('northernmost_prefecture', 0.552474856376648),\n",
       " ('Kyushu', 0.5514252781867981),\n",
       " ('captain_Makoto_Hasebe', 0.5508173704147339),\n",
       " ('Shimane', 0.5497494339942932),\n",
       " ('France', 0.5303857)]"
      ]
     },
     "execution_count": 18,
     "metadata": {},
     "output_type": "execute_result"
    }
   ],
   "source": [
    "check_full_list(counterpart='Tokyo', obj='France', subj='Paris')"
   ]
  },
  {
   "cell_type": "markdown",
   "metadata": {},
   "source": [
    "### he - king = she - ?"
   ]
  },
  {
   "cell_type": "code",
   "execution_count": 19,
   "metadata": {
    "scrolled": true
   },
   "outputs": [
    {
     "data": {
      "text/plain": [
       "[('queen', 0.7633836269378662),\n",
       " ('king', 0.6967242),\n",
       " ('princess', 0.6342117786407471),\n",
       " ('queens', 0.5744964480400085),\n",
       " ('monarch', 0.5577755570411682),\n",
       " ('goddess', 0.5278830528259277),\n",
       " ('princesses', 0.5202734470367432),\n",
       " ('Queen_Consort', 0.5134547352790833),\n",
       " ('very_pampered_McElhatton', 0.5131746530532837),\n",
       " ('empress', 0.5119601488113403),\n",
       " ('queendom', 0.5091063976287842)]"
      ]
     },
     "execution_count": 19,
     "metadata": {},
     "output_type": "execute_result"
    }
   ],
   "source": [
    "check_full_list( counterpart='she', obj='king', subj='he')"
   ]
  },
  {
   "cell_type": "markdown",
   "metadata": {},
   "source": [
    "### Examples of gender stereotypes"
   ]
  },
  {
   "cell_type": "markdown",
   "metadata": {},
   "source": [
    "### she - sewing = he - ? "
   ]
  },
  {
   "cell_type": "code",
   "execution_count": 21,
   "metadata": {},
   "outputs": [
    {
     "data": {
      "text/plain": [
       "[('sewing', 0.66992193),\n",
       " ('woodworking', 0.5794616937637329),\n",
       " ('sew', 0.531487226486206),\n",
       " ('carpentry', 0.5230335593223572),\n",
       " ('woodcarving', 0.49166661500930786),\n",
       " ('wood_carving', 0.47534996271133423),\n",
       " ('leatherworking', 0.4700630009174347),\n",
       " ('Sewing', 0.4634256958961487),\n",
       " ('knitting', 0.46304479241371155),\n",
       " ('spinning_weaving', 0.4606916308403015),\n",
       " ('woodworking_shop', 0.45343703031539917)]"
      ]
     },
     "execution_count": 21,
     "metadata": {},
     "output_type": "execute_result"
    }
   ],
   "source": [
    "check_full_list(subj='she', obj='sewing', counterpart='he')"
   ]
  },
  {
   "cell_type": "markdown",
   "metadata": {},
   "source": [
    "### he- sewing = she - ? "
   ]
  },
  {
   "cell_type": "code",
   "execution_count": 22,
   "metadata": {},
   "outputs": [
    {
     "data": {
      "text/plain": [
       "[('sewing', 0.8244272),\n",
       " ('knitting', 0.6727133393287659),\n",
       " ('quilting', 0.6575378775596619),\n",
       " ('Sewing', 0.6378443241119385),\n",
       " ('needlework', 0.6374493837356567),\n",
       " ('sewing_embroidery', 0.5977171659469604),\n",
       " ('crochet', 0.5976918339729309),\n",
       " ('crocheting', 0.5905722379684448),\n",
       " ('serger', 0.5881949067115784),\n",
       " ('needlecraft', 0.5823681354522705),\n",
       " ('sewing_quilting', 0.5818668603897095)]"
      ]
     },
     "execution_count": 22,
     "metadata": {},
     "output_type": "execute_result"
    }
   ],
   "source": [
    "check_full_list(subj='he', obj='sewing', counterpart='she')"
   ]
  },
  {
   "cell_type": "markdown",
   "metadata": {},
   "source": [
    "### The occupations differ from male and female. While labour intensive occupations like carpentry and woodworking are associated with men, knitting and crocheting is associated with women. Hencethe results strengthen existing notions of gender stereotypes present in the society\n"
   ]
  },
  {
   "cell_type": "markdown",
   "metadata": {},
   "source": [
    "### she - nurse = he - ?"
   ]
  },
  {
   "cell_type": "code",
   "execution_count": 23,
   "metadata": {},
   "outputs": [
    {
     "data": {
      "text/plain": [
       "[('nurse', 0.6655272),\n",
       " ('doctor', 0.5559605360031128),\n",
       " ('medic', 0.5425376892089844),\n",
       " ('physician', 0.5394271016120911),\n",
       " ('x_ray_technician', 0.5355569124221802),\n",
       " ('surgeon', 0.5160146951675415),\n",
       " ('nurses', 0.49741458892822266),\n",
       " ('paramedic', 0.4924110770225525),\n",
       " ('anesthetist', 0.48865455389022827),\n",
       " ('patient', 0.46544164419174194),\n",
       " ('doctors', 0.46398618817329407)]"
      ]
     },
     "execution_count": 23,
     "metadata": {},
     "output_type": "execute_result"
    }
   ],
   "source": [
    "check_full_list(subj='she', obj='nurse', counterpart='he')"
   ]
  },
  {
   "cell_type": "markdown",
   "metadata": {},
   "source": [
    "### he - nurse = she - ?"
   ]
  },
  {
   "cell_type": "code",
   "execution_count": 25,
   "metadata": {
    "scrolled": true
   },
   "outputs": [
    {
     "data": {
      "text/plain": [
       "[('nurse', 0.82805425),\n",
       " ('registered_nurse', 0.7027999758720398),\n",
       " ('nurse_practitioner', 0.6314353942871094),\n",
       " ('midwife', 0.620543360710144),\n",
       " ('nurses', 0.6066274046897888),\n",
       " ('certified_lactation_counselor', 0.5820688009262085),\n",
       " ('nurse_midwife', 0.5799016952514648),\n",
       " ('birth_doula', 0.5744963884353638),\n",
       " ('neonatal_nurse', 0.5663832426071167),\n",
       " ('dental_hygienist', 0.5519738793373108),\n",
       " ('lactation_consultant', 0.5466617941856384)]"
      ]
     },
     "execution_count": 25,
     "metadata": {},
     "output_type": "execute_result"
    }
   ],
   "source": [
    "check_full_list(subj='he', obj='nurse', counterpart='she')"
   ]
  },
  {
   "cell_type": "markdown",
   "metadata": {},
   "source": [
    "### he - surgeon = she - ?"
   ]
  },
  {
   "cell_type": "code",
   "execution_count": 26,
   "metadata": {
    "scrolled": true
   },
   "outputs": [
    {
     "data": {
      "text/plain": [
       "[('surgeon', 0.7236081),\n",
       " ('gynecologist', 0.6337346434593201),\n",
       " ('surgeons', 0.6173180937767029),\n",
       " ('plastic_surgeon', 0.5985188484191895),\n",
       " ('nurse', 0.5903362035751343),\n",
       " ('cosmetic_surgeon', 0.5817877054214478),\n",
       " ('hysterectomy', 0.5799471139907837),\n",
       " ('obstetrician', 0.5660049915313721),\n",
       " ('sonographer', 0.5639317035675049),\n",
       " ('midwife', 0.5569907426834106),\n",
       " ('MRI_technologist', 0.5460633635520935)]"
      ]
     },
     "execution_count": 26,
     "metadata": {},
     "output_type": "execute_result"
    }
   ],
   "source": [
    "check_full_list(subj='he', obj='surgeon', counterpart='she')"
   ]
  },
  {
   "cell_type": "markdown",
   "metadata": {},
   "source": [
    "### she - lovely = he - ?"
   ]
  },
  {
   "cell_type": "code",
   "execution_count": 30,
   "metadata": {},
   "outputs": [
    {
     "data": {
      "text/plain": [
       "[('lovely', 0.69995606),\n",
       " ('magnificent', 0.624822735786438),\n",
       " ('marvelous', 0.6054928302764893),\n",
       " ('splendid', 0.5995590686798096),\n",
       " ('nice', 0.5869458913803101),\n",
       " ('fantastic', 0.5587064027786255),\n",
       " ('delightful', 0.5561119914054871),\n",
       " ('terrific', 0.5524159669876099),\n",
       " ('wonderful', 0.5481390953063965),\n",
       " ('brilliant', 0.5460424423217773),\n",
       " ('beautiful', 0.5450632572174072)]"
      ]
     },
     "execution_count": 30,
     "metadata": {},
     "output_type": "execute_result"
    }
   ],
   "source": [
    "check_full_list(subj='she', obj='lovely', counterpart='he')"
   ]
  },
  {
   "cell_type": "markdown",
   "metadata": {},
   "source": [
    "### she - lovely = she - ?"
   ]
  },
  {
   "cell_type": "code",
   "execution_count": 31,
   "metadata": {
    "scrolled": true
   },
   "outputs": [
    {
     "data": {
      "text/plain": [
       "[('lovely', 1.0),\n",
       " ('beautiful', 0.810693621635437),\n",
       " ('gorgeous', 0.8014094829559326),\n",
       " ('delightful', 0.7586832642555237),\n",
       " ('wonderful', 0.7320095896720886),\n",
       " ('fabulous', 0.712957501411438),\n",
       " ('marvelous', 0.6729509234428406),\n",
       " ('nice', 0.6676311492919922),\n",
       " ('charming', 0.6509543657302856),\n",
       " ('magnificent', 0.6507099866867065),\n",
       " ('splendid', 0.6399756669998169)]"
      ]
     },
     "execution_count": 31,
     "metadata": {},
     "output_type": "execute_result"
    }
   ],
   "source": [
    "check_full_list(subj='she', obj='lovely', counterpart='she')"
   ]
  },
  {
   "cell_type": "markdown",
   "metadata": {},
   "source": []
  },
  {
   "cell_type": "code",
   "execution_count": 37,
   "metadata": {},
   "outputs": [
    {
     "data": {
      "text/plain": [
       "[('carpenter', 0.5112387537956238),\n",
       " ('tinkerer', 0.47657936811447144),\n",
       " ('machinist', 0.47604191303253174),\n",
       " ('mechanical_engineer', 0.4732445478439331),\n",
       " ('lifelong_resident', 0.4710805118083954),\n",
       " ('avid_fisherman', 0.4508780837059021),\n",
       " ('laborer', 0.4494982063770294),\n",
       " ('retired', 0.4469570517539978),\n",
       " ('businessman', 0.4450863003730774),\n",
       " ('retired_schoolteacher', 0.4420374631881714)]"
      ]
     },
     "execution_count": 37,
     "metadata": {},
     "output_type": "execute_result"
    }
   ],
   "source": [
    "model.most_similar(positive=['he', 'homemaker'], negative=['she'])"
   ]
  },
  {
   "cell_type": "code",
   "execution_count": 38,
   "metadata": {},
   "outputs": [
    {
     "name": "stdout",
     "output_type": "stream",
     "text": [
      "0.122331396\n",
      "0.3694259\n"
     ]
    }
   ],
   "source": [
    "print(model.similarity('he', 'nurse'))\n",
    "print(model.similarity('she', 'nurse'))"
   ]
  },
  {
   "cell_type": "code",
   "execution_count": 39,
   "metadata": {},
   "outputs": [
    {
     "data": {
      "text/plain": [
       "[('doctor', 0.5559605360031128),\n",
       " ('medic', 0.5425376892089844),\n",
       " ('physician', 0.5394271016120911),\n",
       " ('x_ray_technician', 0.5355569124221802),\n",
       " ('surgeon', 0.5160146951675415),\n",
       " ('nurses', 0.49741458892822266),\n",
       " ('paramedic', 0.4924110770225525),\n",
       " ('anesthetist', 0.48865455389022827),\n",
       " ('patient', 0.46544164419174194),\n",
       " ('doctors', 0.46398618817329407)]"
      ]
     },
     "execution_count": 39,
     "metadata": {},
     "output_type": "execute_result"
    }
   ],
   "source": [
    "nurse_list = model.most_similar(positive=['he', 'nurse'], negative=['she'])\n",
    "nurse_list"
   ]
  },
  {
   "cell_type": "code",
   "execution_count": 27,
   "metadata": {},
   "outputs": [
    {
     "name": "stdout",
     "output_type": "stream",
     "text": [
      "Help on Word2VecKeyedVectors in module gensim.models.keyedvectors object:\n",
      "\n",
      "class Word2VecKeyedVectors(WordEmbeddingsKeyedVectors)\n",
      " |  Class to contain vectors and vocab for word2vec model.\n",
      " |  Used to perform operations on the vectors such as vector lookup, distance, similarity etc.\n",
      " |  \n",
      " |  Method resolution order:\n",
      " |      Word2VecKeyedVectors\n",
      " |      WordEmbeddingsKeyedVectors\n",
      " |      BaseKeyedVectors\n",
      " |      gensim.utils.SaveLoad\n",
      " |      builtins.object\n",
      " |  \n",
      " |  Methods defined here:\n",
      " |  \n",
      " |  get_keras_embedding(self, train_embeddings=False)\n",
      " |      Return a Keras 'Embedding' layer with weights set as the Word2Vec model's learned word embeddings\n",
      " |      \n",
      " |      Parameters\n",
      " |      ----------\n",
      " |      train_embeddings : bool\n",
      " |          If False, the weights are frozen and stopped from being updated.\n",
      " |          If True, the weights can/will be further trained/updated.\n",
      " |      \n",
      " |      Returns\n",
      " |      -------\n",
      " |      :obj: `keras.layers.Embedding`\n",
      " |          Embedding layer\n",
      " |  \n",
      " |  save_word2vec_format(self, fname, fvocab=None, binary=False, total_vec=None)\n",
      " |      Store the input-hidden weight matrix in the same format used by the original\n",
      " |      C word2vec-tool, for compatibility.\n",
      " |      \n",
      " |      Parameters\n",
      " |      ----------\n",
      " |      fname : str\n",
      " |          The file path used to save the vectors in\n",
      " |      fvocab : str\n",
      " |          Optional file path used to save the vocabulary\n",
      " |      binary : bool\n",
      " |          If True, the data wil be saved in binary word2vec format, else it will be saved in plain text.\n",
      " |      total_vec :  int\n",
      " |          Optional parameter to explicitly specify total no. of vectors\n",
      " |          (in case word vectors are appended with document vectors afterwards)\n",
      " |  \n",
      " |  ----------------------------------------------------------------------\n",
      " |  Class methods defined here:\n",
      " |  \n",
      " |  load_word2vec_format(fname, fvocab=None, binary=False, encoding='utf8', unicode_errors='strict', limit=None, datatype=<class 'numpy.float32'>) from builtins.type\n",
      " |      Load the input-hidden weight matrix from the original C word2vec-tool format.\n",
      " |      \n",
      " |      Note that the information stored in the file is incomplete (the binary tree is missing),\n",
      " |      so while you can query for word similarity etc., you cannot continue training\n",
      " |      with a model loaded this way.\n",
      " |      \n",
      " |      Parameters\n",
      " |      ----------\n",
      " |      fname : str\n",
      " |          The file path to the saved word2vec-format file.\n",
      " |      fvocab : str\n",
      " |              Optional file path to the vocabulary.Word counts are read from `fvocab` filename,\n",
      " |              if set (this is the file generated by `-save-vocab` flag of the original C tool).\n",
      " |      binary : bool\n",
      " |          If True, indicates whether the data is in binary word2vec format.\n",
      " |      encoding : str\n",
      " |          If you trained the C model using non-utf8 encoding for words, specify that\n",
      " |          encoding in `encoding`.\n",
      " |      unicode_errors : str\n",
      " |          default 'strict', is a string suitable to be passed as the `errors`\n",
      " |          argument to the unicode() (Python 2.x) or str() (Python 3.x) function. If your source\n",
      " |          file may include word tokens truncated in the middle of a multibyte unicode character\n",
      " |          (as is common from the original word2vec.c tool), 'ignore' or 'replace' may help.\n",
      " |      limit : int\n",
      " |          Sets a maximum number of word-vectors to read from the file. The default,\n",
      " |          None, means read all.\n",
      " |      datatype : :class: `numpy.float*`\n",
      " |          (Experimental) Can coerce dimensions to a non-default float type (such\n",
      " |          as np.float16) to save memory. (Such types may result in much slower bulk operations\n",
      " |          or incompatibility with optimized routines.)\n",
      " |      \n",
      " |      Returns\n",
      " |      -------\n",
      " |      :obj: `~gensim.models.word2vec.Wod2Vec`\n",
      " |          Returns the loaded model as an instance of :class: `~gensim.models.word2vec.Wod2Vec`.\n",
      " |  \n",
      " |  ----------------------------------------------------------------------\n",
      " |  Methods inherited from WordEmbeddingsKeyedVectors:\n",
      " |  \n",
      " |  __contains__(self, word)\n",
      " |  \n",
      " |  __init__(self, vector_size)\n",
      " |      Initialize self.  See help(type(self)) for accurate signature.\n",
      " |  \n",
      " |  accuracy(self, questions, restrict_vocab=30000, most_similar=<function WordEmbeddingsKeyedVectors.most_similar at 0x7f72f257a840>, case_insensitive=True)\n",
      " |      Compute accuracy of the model. `questions` is a filename where lines are\n",
      " |      4-tuples of words, split into sections by \": SECTION NAME\" lines.\n",
      " |      See questions-words.txt in\n",
      " |      https://storage.googleapis.com/google-code-archive-source/v2/code.google.com/word2vec/source-archive.zip\n",
      " |      for an example.\n",
      " |      \n",
      " |      The accuracy is reported (=printed to log and returned as a list) for each\n",
      " |      section separately, plus there's one aggregate summary at the end.\n",
      " |      \n",
      " |      Use `restrict_vocab` to ignore all questions containing a word not in the first `restrict_vocab`\n",
      " |      words (default 30,000). This may be meaningful if you've sorted the vocabulary by descending frequency.\n",
      " |      In case `case_insensitive` is True, the first `restrict_vocab` words are taken first, and then\n",
      " |      case normalization is performed.\n",
      " |      \n",
      " |      Use `case_insensitive` to convert all words in questions and vocab to their uppercase form before\n",
      " |      evaluating the accuracy (default True). Useful in case of case-mismatch between training tokens\n",
      " |      and question words. In case of multiple case variants of a single word, the vector for the first\n",
      " |      occurrence (also the most frequent if vocabulary is sorted) is taken.\n",
      " |      \n",
      " |      This method corresponds to the `compute-accuracy` script of the original C word2vec.\n",
      " |  \n",
      " |  distance(self, w1, w2)\n",
      " |      Compute cosine distance between two words.\n",
      " |      \n",
      " |      Examples\n",
      " |      --------\n",
      " |      \n",
      " |      >>> trained_model.distance('woman', 'man')\n",
      " |      0.34\n",
      " |      \n",
      " |      >>> trained_model.distance('woman', 'woman')\n",
      " |      0.0\n",
      " |  \n",
      " |  distances(self, word_or_vector, other_words=())\n",
      " |      Compute cosine distances from given word or vector to all words in `other_words`.\n",
      " |      If `other_words` is empty, return distance between `word_or_vectors` and all words in vocab.\n",
      " |      \n",
      " |      Parameters\n",
      " |      ----------\n",
      " |      word_or_vector : str or numpy.array\n",
      " |          Word or vector from which distances are to be computed.\n",
      " |      \n",
      " |      other_words : iterable(str) or None\n",
      " |          For each word in `other_words` distance from `word_or_vector` is computed.\n",
      " |          If None or empty, distance of `word_or_vector` from all words in vocab is computed (including itself).\n",
      " |      \n",
      " |      Returns\n",
      " |      -------\n",
      " |      numpy.array\n",
      " |          Array containing distances to all words in `other_words` from input `word_or_vector`,\n",
      " |          in the same order as `other_words`.\n",
      " |      \n",
      " |      Notes\n",
      " |      -----\n",
      " |      Raises KeyError if either `word_or_vector` or any word in `other_words` is absent from vocab.\n",
      " |  \n",
      " |  doesnt_match(self, words)\n",
      " |      Which word from the given list doesn't go with the others?\n",
      " |      \n",
      " |      Parameters\n",
      " |      ----------\n",
      " |      words : :obj: `list` of :obj: `str`\n",
      " |          List of words\n",
      " |      \n",
      " |      Returns\n",
      " |      -------\n",
      " |      str\n",
      " |          The word further away from the mean of all words.\n",
      " |      \n",
      " |      Example\n",
      " |      -------\n",
      " |      >>> trained_model.doesnt_match(\"breakfast cereal dinner lunch\".split())\n",
      " |      'cereal'\n",
      " |  \n",
      " |  evaluate_word_pairs(self, pairs, delimiter='\\t', restrict_vocab=300000, case_insensitive=True, dummy4unknown=False)\n",
      " |      Compute correlation of the model with human similarity judgments. `pairs` is a filename of a dataset where\n",
      " |      lines are 3-tuples, each consisting of a word pair and a similarity value, separated by `delimiter`.\n",
      " |      An example dataset is included in Gensim (test/test_data/wordsim353.tsv). More datasets can be found at\n",
      " |      http://technion.ac.il/~ira.leviant/MultilingualVSMdata.html or https://www.cl.cam.ac.uk/~fh295/simlex.html.\n",
      " |      \n",
      " |      The model is evaluated using Pearson correlation coefficient and Spearman rank-order correlation coefficient\n",
      " |      between the similarities from the dataset and the similarities produced by the model itself.\n",
      " |      The results are printed to log and returned as a triple (pearson, spearman, ratio of pairs with unknown words).\n",
      " |      \n",
      " |      Use `restrict_vocab` to ignore all word pairs containing a word not in the first `restrict_vocab`\n",
      " |      words (default 300,000). This may be meaningful if you've sorted the vocabulary by descending frequency.\n",
      " |      If `case_insensitive` is True, the first `restrict_vocab` words are taken, and then case normalization\n",
      " |      is performed.\n",
      " |      \n",
      " |      Use `case_insensitive` to convert all words in the pairs and vocab to their uppercase form before\n",
      " |      evaluating the model (default True). Useful when you expect case-mismatch between training tokens\n",
      " |      and words pairs in the dataset. If there are multiple case variants of a single word, the vector for the first\n",
      " |      occurrence (also the most frequent if vocabulary is sorted) is taken.\n",
      " |      \n",
      " |      Use `dummy4unknown=True` to produce zero-valued similarities for pairs with out-of-vocabulary words.\n",
      " |      Otherwise (default False), these pairs are skipped entirely.\n",
      " |  \n",
      " |  get_vector(self, word)\n",
      " |      Accept a single entity as input, specified by string tag.\n",
      " |      Returns the entity's representations in vector space, as a 1D numpy array.\n",
      " |  \n",
      " |  init_sims(self, replace=False)\n",
      " |      Precompute L2-normalized vectors.\n",
      " |      \n",
      " |      If `replace` is set, forget the original vectors and only keep the normalized\n",
      " |      ones = saves lots of memory!\n",
      " |      \n",
      " |      Note that you **cannot continue training** after doing a replace. The model becomes\n",
      " |      effectively read-only = you can call `most_similar`, `similarity` etc., but not `train`.\n",
      " |  \n",
      " |  most_similar(self, positive=None, negative=None, topn=10, restrict_vocab=None, indexer=None)\n",
      " |      Find the top-N most similar words. Positive words contribute positively towards the\n",
      " |      similarity, negative words negatively.\n",
      " |      \n",
      " |      This method computes cosine similarity between a simple mean of the projection\n",
      " |      weight vectors of the given words and the vectors for each word in the model.\n",
      " |      The method corresponds to the `word-analogy` and `distance` scripts in the original\n",
      " |      word2vec implementation.\n",
      " |      \n",
      " |      Parameters\n",
      " |      ----------\n",
      " |      positive : :obj: `list` of :obj: `str`\n",
      " |          List of words that contribute positively.\n",
      " |      negative : :obj: `list` of :obj: `str`\n",
      " |          List of words that contribute negatively.\n",
      " |      topn : int\n",
      " |          Number of top-N similar words to return.\n",
      " |      restrict_vocab : int\n",
      " |          Optional integer which limits the range of vectors which\n",
      " |          are searched for most-similar values. For example, restrict_vocab=10000 would\n",
      " |          only check the first 10000 word vectors in the vocabulary order. (This may be\n",
      " |          meaningful if you've sorted the vocabulary by descending frequency.)\n",
      " |      \n",
      " |      Returns\n",
      " |      -------\n",
      " |      :obj: `list` of :obj: `tuple`\n",
      " |          Returns a list of tuples (word, similarity)\n",
      " |      \n",
      " |      Examples\n",
      " |      --------\n",
      " |      >>> trained_model.most_similar(positive=['woman', 'king'], negative=['man'])\n",
      " |      [('queen', 0.50882536), ...]\n",
      " |  \n",
      " |  most_similar_cosmul(self, positive=None, negative=None, topn=10)\n",
      " |      Find the top-N most similar words, using the multiplicative combination objective\n",
      " |      proposed by Omer Levy and Yoav Goldberg. Positive words still contribute\n",
      " |      positively towards the similarity, negative words negatively, but with less\n",
      " |      susceptibility to one large distance dominating the calculation.\n",
      " |      \n",
      " |      In the common analogy-solving case, of two positive and one negative examples,\n",
      " |      this method is equivalent to the \"3CosMul\" objective (equation (4)) of Levy and Goldberg.\n",
      " |      \n",
      " |      Additional positive or negative examples contribute to the numerator or denominator,\n",
      " |      respectively – a potentially sensible but untested extension of the method. (With\n",
      " |      a single positive example, rankings will be the same as in the default most_similar.)\n",
      " |      \n",
      " |      Example::\n",
      " |      \n",
      " |        >>> trained_model.most_similar_cosmul(positive=['baghdad', 'england'], negative=['london'])\n",
      " |        [(u'iraq', 0.8488819003105164), ...]\n",
      " |      \n",
      " |      .. Omer Levy and Yoav Goldberg. Linguistic Regularities in Sparse and Explicit Word Representations, 2014.\n",
      " |  \n",
      " |  n_similarity(self, ws1, ws2)\n",
      " |      Compute cosine similarity between two sets of words.\n",
      " |      \n",
      " |      Examples\n",
      " |      --------\n",
      " |      \n",
      " |      >>> trained_model.n_similarity(['sushi', 'shop'], ['japanese', 'restaurant'])\n",
      " |      0.61540466561049689\n",
      " |      \n",
      " |      >>> trained_model.n_similarity(['restaurant', 'japanese'], ['japanese', 'restaurant'])\n",
      " |      1.0000000000000004\n",
      " |      \n",
      " |      >>> trained_model.n_similarity(['sushi'], ['restaurant']) == trained_model.similarity('sushi', 'restaurant')\n",
      " |      True\n",
      " |  \n",
      " |  save(self, *args, **kwargs)\n",
      " |      Saves the keyedvectors. This saved model can be loaded again using\n",
      " |      :func:`~gensim.models.*2vec.*2VecKeyedVectors.load` which supports\n",
      " |      operations on trained word vectors like `most_similar`.\n",
      " |      \n",
      " |      Parameters\n",
      " |      ----------\n",
      " |      fname : str\n",
      " |          Path to the file.\n",
      " |  \n",
      " |  similar_by_vector(self, vector, topn=10, restrict_vocab=None)\n",
      " |      Find the top-N most similar words by vector.\n",
      " |      \n",
      " |      Parameters\n",
      " |      ----------\n",
      " |      vector : numpy.array\n",
      " |          vector from which similarities are to be computed.\n",
      " |          expected shape (dim,)\n",
      " |      topn : int\n",
      " |          Number of top-N similar words to return. If topn is False, similar_by_vector returns\n",
      " |          the vector of similarity scores.\n",
      " |      restrict_vocab : int\n",
      " |          Optional integer which limits the range of vectors which\n",
      " |          are searched for most-similar values. For example, restrict_vocab=10000 would\n",
      " |          only check the first 10000 word vectors in the vocabulary order. (This may be\n",
      " |          meaningful if you've sorted the vocabulary by descending frequency.)\n",
      " |      \n",
      " |      Returns\n",
      " |      -------\n",
      " |      :obj: `list` of :obj: `tuple`\n",
      " |          Returns a list of tuples (word, similarity)\n",
      " |  \n",
      " |  similar_by_word(self, word, topn=10, restrict_vocab=None)\n",
      " |      Find the top-N most similar words.\n",
      " |      \n",
      " |      Parameters\n",
      " |      ----------\n",
      " |      word : str\n",
      " |          Word\n",
      " |      topn : int\n",
      " |          Number of top-N similar words to return. If topn is False, similar_by_word returns\n",
      " |          the vector of similarity scores.\n",
      " |      restrict_vocab : int\n",
      " |          Optional integer which limits the range of vectors which\n",
      " |          are searched for most-similar values. For example, restrict_vocab=10000 would\n",
      " |          only check the first 10000 word vectors in the vocabulary order. (This may be\n",
      " |          meaningful if you've sorted the vocabulary by descending frequency.)\n",
      " |      \n",
      " |      Returns\n",
      " |      -------\n",
      " |      :obj: `list` of :obj: `tuple`\n",
      " |          Returns a list of tuples (word, similarity)\n",
      " |      \n",
      " |      Example::\n",
      " |      \n",
      " |        >>> trained_model.similar_by_word('graph')\n",
      " |        [('user', 0.9999163150787354), ...]\n",
      " |  \n",
      " |  similarity(self, w1, w2)\n",
      " |      Compute cosine similarity between two words.\n",
      " |      \n",
      " |      Examples\n",
      " |      --------\n",
      " |      \n",
      " |      >>> trained_model.similarity('woman', 'man')\n",
      " |      0.73723527\n",
      " |      \n",
      " |      >>> trained_model.similarity('woman', 'woman')\n",
      " |      1.0\n",
      " |  \n",
      " |  similarity_matrix(self, dictionary, tfidf=None, threshold=0.0, exponent=2.0, nonzero_limit=100, dtype=<class 'numpy.float32'>)\n",
      " |      Constructs a term similarity matrix for computing Soft Cosine Measure.\n",
      " |      \n",
      " |      Constructs a a sparse term similarity matrix in the :class:`scipy.sparse.csc_matrix` format for computing\n",
      " |      Soft Cosine Measure between documents.\n",
      " |      \n",
      " |      Parameters\n",
      " |      ----------\n",
      " |      dictionary : :class:`~gensim.corpora.dictionary.Dictionary`\n",
      " |          A dictionary that specifies a mapping between words and the indices of rows and columns\n",
      " |          of the resulting term similarity matrix.\n",
      " |      tfidf : :class:`gensim.models.tfidfmodel.TfidfModel`, optional\n",
      " |          A model that specifies the relative importance of the terms in the dictionary. The rows\n",
      " |          of the term similarity matrix will be build in an increasing order of importance of terms,\n",
      " |          or in the order of term identifiers if None.\n",
      " |      threshold : float, optional\n",
      " |          Only pairs of words whose embeddings are more similar than `threshold` are considered\n",
      " |          when building the sparse term similarity matrix.\n",
      " |      exponent : float, optional\n",
      " |          The exponent applied to the similarity between two word embeddings when building the term similarity matrix.\n",
      " |      nonzero_limit : int, optional\n",
      " |          The maximum number of non-zero elements outside the diagonal in a single row or column\n",
      " |          of the term similarity matrix. Setting `nonzero_limit` to a constant ensures that the\n",
      " |          time complexity of computing the Soft Cosine Measure will be linear in the document\n",
      " |          length rather than quadratic.\n",
      " |      dtype : numpy.dtype, optional\n",
      " |          Data-type of the term similarity matrix.\n",
      " |      \n",
      " |      Returns\n",
      " |      -------\n",
      " |      :class:`scipy.sparse.csc_matrix`\n",
      " |          Term similarity matrix.\n",
      " |      \n",
      " |      See Also\n",
      " |      --------\n",
      " |      :func:`gensim.matutils.softcossim`\n",
      " |          The Soft Cosine Measure.\n",
      " |      :class:`gensim.similarities.docsim.SoftCosineSimilarity`\n",
      " |          A class for performing corpus-based similarity queries with Soft Cosine Measure.\n",
      " |      \n",
      " |      \n",
      " |      Notes\n",
      " |      -----\n",
      " |      The constructed matrix corresponds to the matrix Mrel defined in section 2.1 of\n",
      " |      `Delphine Charlet and Geraldine Damnati, \"SimBow at SemEval-2017 Task 3: Soft-Cosine Semantic Similarity\n",
      " |      between Questions for Community Question Answering\", 2017\n",
      " |      <http://www.aclweb.org/anthology/S/S17/S17-2051.pdf>`__.\n",
      " |  \n",
      " |  wmdistance(self, document1, document2)\n",
      " |      Compute the Word Mover's Distance between two documents. When using this\n",
      " |      code, please consider citing the following papers:\n",
      " |      \n",
      " |      .. Ofir Pele and Michael Werman, \"A linear time histogram metric for improved SIFT matching\".\n",
      " |      .. Ofir Pele and Michael Werman, \"Fast and robust earth mover's distances\".\n",
      " |      .. Matt Kusner et al. \"From Word Embeddings To Document Distances\".\n",
      " |      \n",
      " |      Note that if one of the documents have no words that exist in the\n",
      " |      Word2Vec vocab, `float('inf')` (i.e. infinity) will be returned.\n",
      " |      \n",
      " |      This method only works if `pyemd` is installed (can be installed via pip, but requires a C compiler).\n",
      " |      \n",
      " |      Example:\n",
      " |          >>> # Train word2vec model.\n",
      " |          >>> model = Word2Vec(sentences)\n",
      " |      \n",
      " |          >>> # Some sentences to test.\n",
      " |          >>> sentence_obama = 'Obama speaks to the media in Illinois'.lower().split()\n",
      " |          >>> sentence_president = 'The president greets the press in Chicago'.lower().split()\n",
      " |      \n",
      " |          >>> # Remove their stopwords.\n",
      " |          >>> from nltk.corpus import stopwords\n",
      " |          >>> stopwords = nltk.corpus.stopwords.words('english')\n",
      " |          >>> sentence_obama = [w for w in sentence_obama if w not in stopwords]\n",
      " |          >>> sentence_president = [w for w in sentence_president if w not in stopwords]\n",
      " |      \n",
      " |          >>> # Compute WMD.\n",
      " |          >>> distance = model.wmdistance(sentence_obama, sentence_president)\n",
      " |  \n",
      " |  word_vec(self, word, use_norm=False)\n",
      " |      Accept a single word as input.\n",
      " |      Returns the word's representations in vector space, as a 1D numpy array.\n",
      " |      \n",
      " |      If `use_norm` is True, returns the normalized word vector.\n",
      " |      \n",
      " |      Examples\n",
      " |      --------\n",
      " |      >>> trained_model['office']\n",
      " |      array([ -1.40128313e-02, ...])\n",
      " |  \n",
      " |  words_closer_than(self, w1, w2)\n",
      " |      Returns all words that are closer to `w1` than `w2` is to `w1`.\n",
      " |      \n",
      " |      Parameters\n",
      " |      ----------\n",
      " |      w1 : str\n",
      " |          Input word.\n",
      " |      w2 : str\n",
      " |          Input word.\n",
      " |      \n",
      " |      Returns\n",
      " |      -------\n",
      " |      list (str)\n",
      " |          List of words that are closer to `w1` than `w2` is to `w1`.\n",
      " |      \n",
      " |      Examples\n",
      " |      --------\n",
      " |      >>> model.words_closer_than('carnivore', 'mammal')\n",
      " |      ['dog', 'canine']\n",
      " |  \n",
      " |  ----------------------------------------------------------------------\n",
      " |  Static methods inherited from WordEmbeddingsKeyedVectors:\n",
      " |  \n",
      " |  cosine_similarities(vector_1, vectors_all)\n",
      " |      Return cosine similarities between one vector and a set of other vectors.\n",
      " |      \n",
      " |      Parameters\n",
      " |      ----------\n",
      " |      vector_1 : numpy.array\n",
      " |          vector from which similarities are to be computed.\n",
      " |          expected shape (dim,)\n",
      " |      vectors_all : numpy.array\n",
      " |          for each row in vectors_all, distance from vector_1 is computed.\n",
      " |          expected shape (num_vectors, dim)\n",
      " |      \n",
      " |      Returns\n",
      " |      -------\n",
      " |      :obj: `numpy.array`\n",
      " |          Contains cosine distance between vector_1 and each row in vectors_all.\n",
      " |          shape (num_vectors,)\n",
      " |  \n",
      " |  log_accuracy(section)\n",
      " |  \n",
      " |  log_evaluate_word_pairs(pearson, spearman, oov, pairs)\n",
      " |  \n",
      " |  ----------------------------------------------------------------------\n",
      " |  Data descriptors inherited from WordEmbeddingsKeyedVectors:\n",
      " |  \n",
      " |  index2entity\n",
      " |  \n",
      " |  syn0\n",
      " |  \n",
      " |  syn0norm\n",
      " |  \n",
      " |  wv\n",
      " |  \n",
      " |  ----------------------------------------------------------------------\n",
      " |  Methods inherited from BaseKeyedVectors:\n",
      " |  \n",
      " |  __getitem__(self, entities)\n",
      " |      Accept a single entity (string tag) or list of entities as input.\n",
      " |      \n",
      " |      If a single string or int, return designated tag's vector\n",
      " |      representation, as a 1D numpy array.\n",
      " |      \n",
      " |      If a list, return designated tags' vector representations as a\n",
      " |      2D numpy array: #tags x #vector_size.\n",
      " |  \n",
      " |  closer_than(self, entity1, entity2)\n",
      " |      Returns all entities that are closer to `entity1` than `entity2` is to `entity1`.\n",
      " |  \n",
      " |  most_similar_to_given(self, entity1, entities_list)\n",
      " |      Return the entity from entities_list most similar to entity1.\n",
      " |  \n",
      " |  rank(self, entity1, entity2)\n",
      " |      Rank of the distance of `entity2` from `entity1`, in relation to distances of all entities from `entity1`.\n",
      " |  \n",
      " |  ----------------------------------------------------------------------\n",
      " |  Class methods inherited from BaseKeyedVectors:\n",
      " |  \n",
      " |  load(fname_or_handle, **kwargs) from builtins.type\n",
      " |      Load a previously saved object (using :meth:`~gensim.utils.SaveLoad.save`) from file.\n",
      " |      \n",
      " |      Parameters\n",
      " |      ----------\n",
      " |      fname : str\n",
      " |          Path to file that contains needed object.\n",
      " |      mmap : str, optional\n",
      " |          Memory-map option.  If the object was saved with large arrays stored separately, you can load these arrays\n",
      " |          via mmap (shared memory) using `mmap='r'.\n",
      " |          If the file being loaded is compressed (either '.gz' or '.bz2'), then `mmap=None` **must be** set.\n",
      " |      \n",
      " |      See Also\n",
      " |      --------\n",
      " |      :meth:`~gensim.utils.SaveLoad.save`\n",
      " |      \n",
      " |      Returns\n",
      " |      -------\n",
      " |      object\n",
      " |          Object loaded from `fname`.\n",
      " |      \n",
      " |      Raises\n",
      " |      ------\n",
      " |      IOError\n",
      " |          When methods are called on instance (should be called from class).\n",
      " |  \n",
      " |  ----------------------------------------------------------------------\n",
      " |  Data descriptors inherited from gensim.utils.SaveLoad:\n",
      " |  \n",
      " |  __dict__\n",
      " |      dictionary for instance variables (if defined)\n",
      " |  \n",
      " |  __weakref__\n",
      " |      list of weak references to the object (if defined)\n",
      "\n"
     ]
    }
   ],
   "source": [
    "help(model)"
   ]
  },
  {
   "cell_type": "code",
   "execution_count": 46,
   "metadata": {},
   "outputs": [
    {
     "data": {
      "text/plain": [
       "[('registered_nurse', 0.7375059127807617),\n",
       " ('nurse_practitioner', 0.6650707721710205),\n",
       " ('midwife', 0.6506887674331665),\n",
       " ('nurses', 0.6448697447776794),\n",
       " ('nurse_midwife', 0.6239830255508423),\n",
       " ('birth_doula', 0.5852459669113159),\n",
       " ('neonatal_nurse', 0.5670714974403381),\n",
       " ('dental_hygienist', 0.5668443441390991),\n",
       " ('lactation_consultant', 0.566798985004425),\n",
       " ('respiratory_therapist', 0.5652169585227966)]"
      ]
     },
     "execution_count": 46,
     "metadata": {},
     "output_type": "execute_result"
    }
   ],
   "source": [
    "model.most_similar(positive=['woman', 'nurse'], negative=['man'])"
   ]
  },
  {
   "cell_type": "code",
   "execution_count": 47,
   "metadata": {},
   "outputs": [
    {
     "name": "stdout",
     "output_type": "stream",
     "text": [
      "Finding analogies with respect to model 1:\n",
      "\n",
      "Subtracting man from male-dominated roles\n",
      "\n",
      "manager is to man as vice_president is to woman\n",
      "executive is to man as chairwoman is to woman\n",
      "doctor is to man as gynecologist is to woman\n",
      "lawyer is to man as attorney is to woman\n",
      "programmer is to man as programmers is to woman\n",
      "professor is to man as associate_professor is to woman\n",
      "soldier is to man as solider is to woman\n",
      "officer is to man as Officer is to woman\n",
      "janitor is to man as receptionist is to woman\n",
      "rockstar is to man as rocker_chick is to woman\n",
      "\n",
      "Subtracting woman from female-dominated roles\n",
      "\n",
      "nurse is to woman as medic is to man\n",
      "teacher is to woman as headmaster is to man\n",
      "homemaker is to woman as machinist is to man\n",
      "housewife is to woman as schoolteacher is to man\n",
      "midwife is to woman as midwives is to man\n",
      "secretary is to woman as sectary is to man\n",
      "maid is to woman as housekeeper is to man\n",
      "dancer is to woman as magician is to man\n",
      "receptionist is to woman as receptionists is to man\n",
      "artist is to woman as painter is to man\n"
     ]
    }
   ],
   "source": [
    "roles_men = [\"manager\", \"executive\", \"doctor\", \"lawyer\", \"programmer\", \"professor\", \"soldier\", \"officer\", \"janitor\", \"rockstar\"]\n",
    "roles_women = [\"nurse\", \"teacher\", \"homemaker\", \"housewife\", \"midwife\", \"secretary\", \"maid\", \"dancer\", \"receptionist\", \"artist\"]\n",
    "print(\"Finding analogies with respect to model:\")\n",
    "print(\"\\nSubtracting man from male-dominated roles\\n\")\n",
    "for rm in roles_men:\n",
    "    print(rm, \"is to man as\",model.most_similar_cosmul(positive=[rm,'woman'], negative=['man'])[0][0],\"is to woman\")\n",
    "    \n",
    "print(\"\\nSubtracting woman from female-dominated roles\\n\")\n",
    "for rw in roles_women:\n",
    "    print(rw, \"is to woman as\",model.most_similar_cosmul(positive=[rw,'man'], negative=['woman'])[0][0],\"is to man\")"
   ]
  },
  {
   "cell_type": "markdown",
   "metadata": {},
   "source": [
    "## Finding Most Biased words "
   ]
  },
  {
   "cell_type": "code",
   "execution_count": 53,
   "metadata": {},
   "outputs": [
    {
     "name": "stdout",
     "output_type": "stream",
     "text": [
      "\n",
      "Bias in Professions in Model - decending order (top 10) (man-woman)\n",
      "\n",
      "('player', 0.14464013)\n",
      "('magician', 0.13641718)\n",
      "('gamer', 0.09572456)\n",
      "('cop', 0.09029714)\n",
      "('barber', 0.078953706)\n",
      "('carpenter', 0.076723024)\n",
      "('butcher', 0.07215785)\n",
      "('preacher', 0.072037406)\n",
      "('servant', 0.07151116)\n",
      "('plumber', 0.059067138)\n",
      "\n",
      "Bias in Misc. words in Model - descending order (top 10) (man-woman)\n",
      "\n",
      "('fanatic', 0.1337762)\n",
      "('cocky', 0.13213944)\n",
      "('decent', 0.12949842)\n",
      "('brute', 0.12347889)\n",
      "('boss', 0.12237432)\n",
      "('enigmatic', 0.11897446)\n",
      "('nerd', 0.11428646)\n",
      "('flashy', 0.1093769)\n",
      "('terrific', 0.10921587)\n",
      "('mentor', 0.10108198)\n"
     ]
    }
   ],
   "source": [
    "vocabp = []\n",
    "vocabm = []\n",
    "\n",
    "professions = []\n",
    "misc_words = []\n",
    "with open('professions.txt' ,'r') as fl:\n",
    "    for word in fl:\n",
    "        professions.append(word[:-1])    \n",
    "\n",
    "with open('misc_words.txt' ,'r') as fl:\n",
    "    for word in fl:\n",
    "        misc_words.append(word[:-1])\n",
    "\n",
    "for word in professions:\n",
    "    vocabp.append((word,model[word]/np.linalg.norm(model[word])))\n",
    "    \n",
    "for word in misc_words:\n",
    "    vocabm.append((word,model[word]/np.linalg.norm(model[word])))\n",
    "    \n",
    "    \n",
    "projectionp = []\n",
    "projectionm = []\n",
    "\n",
    "\n",
    "man = model['man'] / np.linalg.norm(model['man'])\n",
    "woman = model['woman'] / np.linalg.norm(model['woman'])\n",
    "\n",
    "gender_subspc = (man - woman)\n",
    "\n",
    "for word in vocabp:\n",
    "    pro = np.dot(model[word[0]] / np.linalg.norm(model[word[0]]),gender_subspc)\n",
    "    projectionp.append((word[0],pro))\n",
    "    \n",
    "for word in vocabm:\n",
    "    pro = np.dot(model[word[0]] / np.linalg.norm(model[word[0]]),gender_subspc)\n",
    "    projectionm.append((word[0],pro))\n",
    "    \n",
    "    \n",
    "biasedp = sorted(projectionp, reverse = True, key = lambda x : x[1])\n",
    "biasedm = sorted(projectionm, reverse = True, key = lambda x : x[1])\n",
    "\n",
    "\n",
    "\n",
    "\n",
    "print(\"\\nBias in Professions in Model - decending order (top 10) (man-woman)\\n\")\n",
    "ten_bias = biasedp[0:10]\n",
    "for bias in ten_bias:\n",
    "    print(bias)\n",
    "    \n",
    "print(\"\\nBias in Misc. words in Model - descending order (top 10) (man-woman)\\n\")\n",
    "ten_bias = biasedm[0:10]\n",
    "for bias in ten_bias:\n",
    "    print(bias)"
   ]
  },
  {
   "cell_type": "code",
   "execution_count": 55,
   "metadata": {},
   "outputs": [
    {
     "data": {
      "image/png": "[encoded data removed]",
      "text/plain": [
       "<Figure size 1080x720 with 1 Axes>"
      ]
     },
     "metadata": {
      "needs_background": "light"
     },
     "output_type": "display_data"
    }
   ],
   "source": [
    "import matplotlib.pyplot as plt\n",
    "from random import shuffle\n",
    "\n",
    "fig, ax = plt.subplots(figsize=[15,10])\n",
    "\n",
    "x_axis = []\n",
    "y_axis = []\n",
    "\n",
    "shuffled_list = professions\n",
    "shuffle(shuffled_list)\n",
    "\n",
    "for word in shuffled_list:\n",
    "    words = model[word]\n",
    "    words = sorted(words, reverse=True)[0:2]\n",
    "    x_axis.append(words[1])\n",
    "    y_axis.append(words[0])\n",
    "        \n",
    "grph = ax.scatter(x_axis, y_axis, s=100, alpha=0.7, edgecolors='black')\n",
    "\n",
    "i = 0\n",
    "for txt in shuffled_list:\n",
    "    if(i%2==0):\n",
    "        ax.annotate(str(txt),(x_axis[i],y_axis[i]))\n",
    "    i+=1\n",
    "    \n",
    "ax.grid(True)\n",
    "\n",
    "\n",
    "\n",
    "plt.show()"
   ]
  },
  {
   "cell_type": "markdown",
   "metadata": {},
   "source": [
    "## REFERENCES USED: \n",
    "1. Bias_Word_Embeddings - https://github.com/ankit-pant/Bias_Word_Embeddings\n",
    "2. gender-biases-in-word-embedding - https://github.com/csyhuang/gender-biases-in-word-embedding\n",
    "3. Pre-trained model - https://www.kaggle.com/leadbest/googlenewsvectorsnegative300\n",
    "4. Tolga Bolukbasi, et al., Man is to Computer Programmer as Woman is to Homemaker? Debiasing Word Embeddings, https://arxiv.org/pdf/1607.06520.pdf\n",
    "    "
   ]
  },
  {
   "cell_type": "code",
   "execution_count": null,
   "metadata": {},
   "outputs": [],
   "source": []
  }
 ],
 "metadata": {
  "kernelspec": {
   "display_name": "Python 3",
   "language": "python",
   "name": "python3"
  },
  "language_info": {
   "codemirror_mode": {
    "name": "ipython",
    "version": 3
   },
   "file_extension": ".py",
   "mimetype": "text/x-python",
   "name": "python",
   "nbconvert_exporter": "python",
   "pygments_lexer": "ipython3",
   "version": "3.7.0"
  }
 },
 "nbformat": 4,
 "nbformat_minor": 2
}
